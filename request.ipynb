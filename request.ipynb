{
 "cells": [
  {
   "cell_type": "code",
   "execution_count": null,
   "id": "be4efb73-6f14-473f-a20b-1e56441bfdce",
   "metadata": {},
   "outputs": [],
   "source": [
    "import requests\n",
    "import base64\n",
    "from PIL import Image\n",
    "import io\n",
    "import cv2\n",
    "import numpy as np\n",
    "import glob\n",
    "import os\n",
    "import imutils\n",
    "\n",
    "def encode(val):\n",
    "    val=val.replace(\"+\",\"BGABG\")\n",
    "    val=val.replace(\"=\",\"AGAAGA\")\n",
    "    val=val.replace(\"/\",\"OPAWQQQQ\")\n",
    "    return val\n",
    "\n",
    "def decode(val):\n",
    "    val=val.replace(\"BGABG\",\"+\")\n",
    "    val=val.replace(\"AGAAGA\",\"=\")\n",
    "    val=val.replace(\"OPAWQQQQ\",\"/\")\n",
    "    return val\n",
    "def stringToImage(base64_string):\n",
    "    imgdata = base64.b64decode(base64_string)\n",
    "    return Image.open(io.BytesIO(imgdata))\n",
    "# convert PIL Image to an RGB image( technically a numpy array ) that's compatible with opencv\n",
    "def toRGB(image):\n",
    "    return cv2.cvtColor(np.array(image), cv2.COLOR_BGR2RGB)\n",
    "\n",
    "\n",
    "imgs=glob.glob('imgs//*.jpg')\n",
    "for i in imgs:\n",
    "    img=cv2.imread(i)\n",
    "    h,w,c=img.shape\n",
    "    #if w>500:\n",
    "    #    img=imutils.resize(img,width=500)\n",
    "    _,buffer=cv2.imencode('.jpg',img)\n",
    "    img_encoded=base64.b64encode(buffer)\n",
    "    sttt=(str(img_encoded)[2:])[:-1]\n",
    "    e=encode(sttt)\n",
    "    res=requests.get(f\"http://127.0.0.1:5000/knee?image={e}\")\n",
    "\n",
    "    img_trans=decode(res.json()[\"img_st\"])\n",
    "\n",
    "    img_transparent = toRGB(stringToImage(img_trans))\n",
    "    cv2.imwrite('img_trans.jpg',img_transparent)\n",
    "    cv2.imshow('img',cv2.add(img,img_transparent))\n",
    "    cv2.waitKey(0)\n",
    "    cv2.destroyAllWindows()"
   ]
  },
  {
   "cell_type": "code",
   "execution_count": null,
   "id": "eeebe5b3-8459-4217-b528-85714eb8a412",
   "metadata": {},
   "outputs": [],
   "source": []
  }
 ],
 "metadata": {
  "kernelspec": {
   "display_name": "Python 3 (ipykernel)",
   "language": "python",
   "name": "python3"
  },
  "language_info": {
   "codemirror_mode": {
    "name": "ipython",
    "version": 3
   },
   "file_extension": ".py",
   "mimetype": "text/x-python",
   "name": "python",
   "nbconvert_exporter": "python",
   "pygments_lexer": "ipython3",
   "version": "3.7.11"
  }
 },
 "nbformat": 4,
 "nbformat_minor": 5
}
